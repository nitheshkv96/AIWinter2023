{
 "cells": [
  {
   "cell_type": "markdown",
   "id": "642afc93",
   "metadata": {},
   "source": [
    "#  CIS 590K Deep Learning Assignment 3\n",
    "## Recommendation System\n",
    "\n"
   ]
  },
  {
   "cell_type": "markdown",
   "id": "587c7041",
   "metadata": {},
   "source": [
    "**Author: Nithesh Veerappa**\n",
    "\n",
    "**Student ID: 01883074**\n",
    "\n",
    "**Date: 02/19/2023**"
   ]
  },
  {
   "cell_type": "markdown",
   "id": "567b167e",
   "metadata": {},
   "source": [
    "## Importing essential libraries"
   ]
  },
  {
   "cell_type": "code",
   "execution_count": 1,
   "id": "2bf49a5f",
   "metadata": {},
   "outputs": [],
   "source": [
    "%matplotlib inline\n",
    "import matplotlib.pyplot as plt\n",
    "import numpy as np\n",
    "import os.path as op\n",
    "import pandas as pd\n",
    "from sklearn.metrics import mean_squared_error\n",
    "from sklearn.metrics import mean_absolute_error\n",
    "from sklearn.metrics import roc_auc_score\n",
    "\n",
    "from zipfile import ZipFile\n",
    "from urllib.request import urlretrieve\n",
    "\n",
    "import tensorflow as tf\n",
    "from tensorflow.keras import layers\n",
    "from tensorflow.keras.layers import Embedding, Flatten, Dense, Dropout\n",
    "from tensorflow.keras.layers import Dot\n",
    "from tensorflow.keras.models import Model\n",
    "from tensorflow.keras.layers import Concatenate"
   ]
  },
  {
   "cell_type": "markdown",
   "id": "84e0edc8",
   "metadata": {},
   "source": [
    "## Model1: Explicit Recommendation System For Classifying Movie Ratings"
   ]
  },
  {
   "cell_type": "markdown",
   "id": "bf98255c",
   "metadata": {},
   "source": [
    "### Downloading and extracting the dataset"
   ]
  },
  {
   "cell_type": "code",
   "execution_count": 2,
   "id": "f8dccbd4",
   "metadata": {},
   "outputs": [],
   "source": [
    "\n",
    "ML_100K_URL = \"http://files.grouplens.org/datasets/movielens/ml-100k.zip\"\n",
    "ML_100K_FILENAME = ML_100K_URL.split('/')[-1]\n",
    "ML_100K_FOLDER = 'ml-100k'\n",
    "\n",
    "if not op.exists(ML_100K_FILENAME):\n",
    "    print('Downloading %s to %s...' % (ML_100K_URL, ML_100K_FILENAME))\n",
    "    urlretrieve(ML_100K_URL, ML_100K_FILENAME)\n",
    "\n",
    "if not op.exists(ML_100K_FOLDER):\n",
    "    print('Extracting %s to %s...' % (ML_100K_FILENAME, ML_100K_FOLDER))\n",
    "    ZipFile(ML_100K_FILENAME).extractall('.')"
   ]
  },
  {
   "cell_type": "code",
   "execution_count": 3,
   "id": "f6d215d9",
   "metadata": {},
   "outputs": [],
   "source": [
    "# Lodaing Raw ratings from \"u.data\" file\n",
    "raw_ratings = pd.read_csv(op.join(ML_100K_FOLDER, 'u.data'), sep='\\t',\n",
    "                      names=[\"user_id\", \"item_id\", \"rating\", \"timestamp\"])"
   ]
  },
  {
   "cell_type": "code",
   "execution_count": 4,
   "id": "27052862",
   "metadata": {},
   "outputs": [],
   "source": [
    "# Loading only the first 4 columns in \"u.item\" file as meta data\n",
    "m_cols = ['item_id', 'title', 'release_date', 'video_release_date', 'imdb_url']\n",
    "items = pd.read_csv(op.join(ML_100K_FOLDER, 'u.item'), sep='|', encoding='latin-1',\n",
    "                    names=m_cols, usecols=range(5))\n",
    "\n",
    "# Function that extracts release year from the above items table\n",
    "def extract_year(release_date):\n",
    "    if hasattr(release_date, 'split'):\n",
    "        components = release_date.split('-')\n",
    "        if len(components) == 3:\n",
    "            return int(components[2])\n",
    "    return 1920 # Missing value marker\n",
    "\n",
    "# extracting release year and creating new column in item df\n",
    "items['release_year'] = items['release_date'].map(extract_year)\n",
    "indexed_items = items.set_index('item_id')\n",
    "\n",
    "#To visualize the distribution of the release year in the dataset\n",
    "#items.hist('release_year', bins = 50)\n",
    "\n",
    "#merging two extracted table (items and raw ratings)\n",
    "all_ratings = pd.merge(items, raw_ratings)"
   ]
  },
  {
   "cell_type": "code",
   "execution_count": 5,
   "id": "e7115573",
   "metadata": {},
   "outputs": [
    {
     "name": "stdout",
     "output_type": "stream",
     "text": [
      "user_id range = (1,943)\n",
      "item_id range = (1,1682)\n"
     ]
    }
   ],
   "source": [
    "#Data preprocessing\n",
    "min_user_id = all_ratings['user_id'].min()\n",
    "max_user_id = all_ratings['user_id'].max()\n",
    "\n",
    "min_item_id = all_ratings['item_id'].min()\n",
    "max_item_id = all_ratings['item_id'].max()\n",
    "\n",
    "print('user_id range = ({},{})'.format(min_user_id, max_user_id))\n",
    "print('item_id range = ({},{})'.format(min_item_id, max_item_id))\n",
    "#all_ratings['rating'].describe()\n",
    "\n",
    "#Engineering popularity feature and merging with all_ratings df\n",
    "popularity = all_ratings.groupby('item_id').size().reset_index(name='popularity')\n",
    "all_ratings = pd.merge(popularity, all_ratings)"
   ]
  },
  {
   "cell_type": "code",
   "execution_count": 6,
   "id": "20cbc9a7",
   "metadata": {},
   "outputs": [],
   "source": [
    "# Data split for training and testing\n",
    "from sklearn.model_selection import train_test_split\n",
    "\n",
    "ratings_train, ratings_test = train_test_split(\n",
    "    all_ratings, test_size=0.2, random_state=0)\n",
    "\n",
    "user_id_train = np.array(ratings_train['user_id'])\n",
    "item_id_train = np.array(ratings_train['item_id'])\n",
    "rating_train = np.array(ratings_train['rating']) - 1\n",
    "\n",
    "user_id_test = np.array(ratings_test['user_id'])\n",
    "item_id_test = np.array(ratings_test['item_id'])\n",
    "rating_test = np.array(ratings_test['rating']) - 1"
   ]
  },
  {
   "cell_type": "markdown",
   "id": "e9123ff5",
   "metadata": {},
   "source": [
    "### Creating a deep neural model architecture for classification problem"
   ]
  },
  {
   "cell_type": "code",
   "execution_count": 7,
   "id": "a2a0bbff",
   "metadata": {},
   "outputs": [],
   "source": [
    "class DeepClassificationRecSys(Model):\n",
    "\n",
    "    def __init__(self, embedding_size, max_user_id, max_item_id):\n",
    "        super().__init__()\n",
    "\n",
    "        self.user_embedding = Embedding(\n",
    "            output_dim=embedding_size,\n",
    "            input_dim=max_user_id + 1,\n",
    "            input_length=1,\n",
    "            name='user_embedding'\n",
    "        )\n",
    "        self.item_embedding = Embedding(\n",
    "            output_dim=embedding_size,\n",
    "            input_dim=max_item_id + 1,\n",
    "            input_length=1,\n",
    "            name='item_embedding'\n",
    "        )\n",
    "\n",
    "        # The following two layers don't have parameters.\n",
    "        self.flatten = Flatten()\n",
    "        self.concat = Concatenate()\n",
    "\n",
    "        ## Possible Error 1: Dropout is too high, preventing any training\n",
    "        self.dropout = Dropout(0.5)\n",
    "        self.dense1 = Dense(64, activation=\"relu\")\n",
    "        #self.dense2 = Dense(32, activation=\"relu\")\n",
    "        self.dense3 = Dense(5, activation = \"softmax\")\n",
    "\n",
    "    def call(self, inputs, training=False):\n",
    "        user_inputs = inputs[0]\n",
    "        item_inputs = inputs[1]\n",
    "\n",
    "        user_vecs = self.flatten(self.user_embedding(user_inputs))\n",
    "        item_vecs = self.flatten(self.item_embedding(item_inputs))\n",
    "\n",
    "        input_vecs = self.concat([user_vecs, item_vecs])\n",
    "\n",
    "        y = self.dropout(input_vecs, training=training)\n",
    "        y = self.dense1(y)\n",
    "        y = self.dropout(y, training=training)\n",
    "        #y = self.dense2(y)\n",
    "        y = self.dense3(y)\n",
    "        return y\n",
    "\n",
    "\n",
    "model = DeepClassificationRecSys(64, max_user_id, max_item_id)\n",
    "model.compile(optimizer='adam', loss = 'sparse_categorical_crossentropy', metrics = ['accuracy'])"
   ]
  },
  {
   "cell_type": "markdown",
   "id": "66dad141",
   "metadata": {},
   "source": [
    "### Training the deep neural network model with training dataset"
   ]
  },
  {
   "cell_type": "code",
   "execution_count": 8,
   "id": "162a1669",
   "metadata": {},
   "outputs": [
    {
     "name": "stdout",
     "output_type": "stream",
     "text": [
      "Epoch 1/10\n",
      "1125/1125 [==============================] - 4s 3ms/step - loss: 1.3664 - accuracy: 0.3891 - val_loss: 1.2673 - val_accuracy: 0.4406\n",
      "Epoch 2/10\n",
      "1125/1125 [==============================] - 4s 3ms/step - loss: 1.2737 - accuracy: 0.4357 - val_loss: 1.2524 - val_accuracy: 0.4536\n",
      "Epoch 3/10\n",
      "1125/1125 [==============================] - 5s 4ms/step - loss: 1.2505 - accuracy: 0.4472 - val_loss: 1.2505 - val_accuracy: 0.4479\n",
      "Epoch 4/10\n",
      "1125/1125 [==============================] - 4s 4ms/step - loss: 1.2367 - accuracy: 0.4534 - val_loss: 1.2424 - val_accuracy: 0.4527\n",
      "Epoch 5/10\n",
      "1125/1125 [==============================] - 3s 3ms/step - loss: 1.2280 - accuracy: 0.4563 - val_loss: 1.2434 - val_accuracy: 0.4505\n",
      "Epoch 6/10\n",
      "1125/1125 [==============================] - 3s 3ms/step - loss: 1.2192 - accuracy: 0.4585 - val_loss: 1.2446 - val_accuracy: 0.4470\n",
      "Epoch 7/10\n",
      "1125/1125 [==============================] - 4s 3ms/step - loss: 1.2130 - accuracy: 0.4630 - val_loss: 1.2432 - val_accuracy: 0.4491\n",
      "Epoch 8/10\n",
      "1125/1125 [==============================] - 4s 3ms/step - loss: 1.2094 - accuracy: 0.4649 - val_loss: 1.2451 - val_accuracy: 0.4493\n",
      "Epoch 9/10\n",
      "1125/1125 [==============================] - 3s 3ms/step - loss: 1.2057 - accuracy: 0.4654 - val_loss: 1.2482 - val_accuracy: 0.4511\n",
      "Epoch 10/10\n",
      "1125/1125 [==============================] - 3s 3ms/step - loss: 1.2031 - accuracy: 0.4663 - val_loss: 1.2458 - val_accuracy: 0.4545\n"
     ]
    }
   ],
   "source": [
    "\n",
    "history = model.fit([user_id_train, item_id_train], rating_train, batch_size=64, epochs=10, validation_split=0.1,shuffle=True)"
   ]
  },
  {
   "cell_type": "markdown",
   "id": "2a807ff1",
   "metadata": {},
   "source": [
    "### Testing the model with Test data"
   ]
  },
  {
   "cell_type": "code",
   "execution_count": 9,
   "id": "96cf2662",
   "metadata": {},
   "outputs": [
    {
     "name": "stdout",
     "output_type": "stream",
     "text": [
      "625/625 [==============================] - 1s 1ms/step\n",
      "2500/2500 [==============================] - 3s 1ms/step\n"
     ]
    }
   ],
   "source": [
    "test_preds = model.predict([user_id_test, item_id_test])\n",
    "train_preds = model.predict([user_id_train, item_id_train])"
   ]
  },
  {
   "cell_type": "markdown",
   "id": "a136b0b7",
   "metadata": {},
   "source": [
    "### Plotting the training and validation losses and Calculating MSE and MAE"
   ]
  },
  {
   "cell_type": "code",
   "execution_count": 10,
   "id": "8e52a2c7",
   "metadata": {},
   "outputs": [
    {
     "name": "stdout",
     "output_type": "stream",
     "text": [
      "Final train MSE: 1.016\n",
      "Final train MAE: 0.650\n",
      "Final test MSE: 1.127\n",
      "Final test MAE: 0.717\n"
     ]
    },
    {
     "data": {
      "image/png": "[encoded data removed]",
      "text/plain": [
       "<Figure size 640x480 with 1 Axes>"
      ]
     },
     "metadata": {},
     "output_type": "display_data"
    }
   ],
   "source": [
    "plt.plot(history.history['loss'], label = 'train')\n",
    "plt.plot(history.history['val_loss'], label = 'validation')\n",
    "plt.ylim(0,2)\n",
    "plt.xlabel('Epochs')\n",
    "plt.ylabel('Losses')\n",
    "plt.legend()\n",
    "\n",
    "print(\"Final train MSE: %0.3f\" % mean_squared_error(np.argmax(train_preds, axis = 1), rating_train))\n",
    "print(\"Final train MAE: %0.3f\" % mean_absolute_error(np.argmax(train_preds, axis = 1), rating_train))\n",
    "\n",
    "print(\"Final test MSE: %0.3f\" % mean_squared_error(np.argmax(test_preds, axis = 1), rating_test))\n",
    "print(\"Final test MAE: %0.3f\" % mean_absolute_error(np.argmax(test_preds, axis = 1), rating_test))"
   ]
  },
  {
   "cell_type": "markdown",
   "id": "0dddd7e2",
   "metadata": {},
   "source": [
    "## Model 2: Implicit Recommendation System For Classifying Movie Ratings"
   ]
  },
  {
   "cell_type": "markdown",
   "id": "eea6b395",
   "metadata": {},
   "source": [
    "### Downloading and extracting the dataset"
   ]
  },
  {
   "cell_type": "code",
   "execution_count": 11,
   "id": "243931f9",
   "metadata": {},
   "outputs": [],
   "source": [
    "# Lodaing Raw ratings from \"u.data\" file\n",
    "data_train = pd.read_csv(op.join(ML_100K_FOLDER, 'ua.base'), sep='\\t',\n",
    "                      names=[\"user_id\", \"item_id\", \"rating\", \"timestamp\"])\n",
    "data_test = pd.read_csv(op.join(ML_100K_FOLDER, 'ua.test'), sep='\\t',\n",
    "                        names=[\"user_id\", \"item_id\", \"rating\", \"timestamp\"])"
   ]
  },
  {
   "cell_type": "code",
   "execution_count": 12,
   "id": "44585360",
   "metadata": {},
   "outputs": [],
   "source": [
    "m_cols = ['item_id', 'title', 'release_date', 'video_release_date', 'imdb_url']\n",
    "items = pd.read_csv(op.join(ML_100K_FOLDER, 'u.item'), sep='|',\n",
    "                    names=m_cols, usecols=range(5), encoding='latin-1')\n",
    "items['release_year'] = items['release_date'].map(extract_year)\n",
    "\n",
    "data_train = pd.merge(data_train, items)\n",
    "data_test = pd.merge(data_test, items)"
   ]
  },
  {
   "cell_type": "code",
   "execution_count": 13,
   "id": "040e787d",
   "metadata": {},
   "outputs": [
    {
     "name": "stdout",
     "output_type": "stream",
     "text": [
      "n_users=944, n_items=1683\n"
     ]
    }
   ],
   "source": [
    "max_user_id = max(data_train['user_id'].max(), data_test['user_id'].max())\n",
    "max_item_id = max(data_train['item_id'].max(), data_test['item_id'].max())\n",
    "\n",
    "n_users = max_user_id + 1\n",
    "n_items = max_item_id + 1\n",
    "\n",
    "print('n_users=%d, n_items=%d' % (n_users, n_items))\n",
    "\n",
    "pos_data_train = data_train.query(\"rating >= 4\")\n",
    "pos_data_test = data_test.query(\"rating >= 4\")"
   ]
  },
  {
   "cell_type": "markdown",
   "id": "ac2e7efc",
   "metadata": {},
   "source": [
    "### Creating helper fucntions for identity loss, margin loss and Average ROC-AUC calculations"
   ]
  },
  {
   "cell_type": "code",
   "execution_count": 14,
   "id": "9e7f1476",
   "metadata": {},
   "outputs": [],
   "source": [
    "def identity_loss(y_true, y_pred):\n",
    "    \"\"\"Ignore y_true and return the mean of y_pred\n",
    "    \n",
    "    This is a hack to work-around the design of the Keras API that is\n",
    "    not really suited to train networks with a triplet loss by default.\n",
    "    \"\"\"\n",
    "    return tf.reduce_mean(y_pred)\n",
    "\n",
    "def sample_triplets(pos_data, max_item_id, random_seed=0):\n",
    "    \"\"\"Sample negatives at random\"\"\"\n",
    "    rng = np.random.RandomState(random_seed)\n",
    "    user_ids = pos_data['user_id'].values\n",
    "    pos_item_ids = pos_data['item_id'].values\n",
    "\n",
    "    neg_item_ids = rng.randint(low=1, high=max_item_id + 1,\n",
    "                               size=len(user_ids))\n",
    "\n",
    "    return [user_ids, pos_item_ids, neg_item_ids]\n",
    "\n",
    "\n",
    "class MarginLoss(layers.Layer):\n",
    "\n",
    "    def __init__(self, margin=1.):\n",
    "        super().__init__()\n",
    "        self.margin = margin\n",
    "        \n",
    "    def call(self, inputs):\n",
    "        pos_pair_similarity = inputs[0]\n",
    "        neg_pair_similarity = inputs[1]\n",
    "        \n",
    "        diff = neg_pair_similarity - pos_pair_similarity\n",
    "        print(diff)\n",
    "        return tf.maximum(diff + self.margin, 0.)\n",
    "    \n",
    "\n",
    "def average_roc_auc(model, data_train, data_test):\n",
    "    \"\"\"Compute the ROC AUC for each user and average over users\"\"\"\n",
    "    max_user_id = max(data_train['user_id'].max(),\n",
    "                      data_test['user_id'].max())\n",
    "    max_item_id = max(data_train['item_id'].max(),\n",
    "                      data_test['item_id'].max())\n",
    "    user_auc_scores = []\n",
    "    for user_id in range(1, max_user_id + 1):\n",
    "        pos_item_train = data_train[data_train['user_id'] == user_id]\n",
    "        pos_item_test = data_test[data_test['user_id'] == user_id]\n",
    "        \n",
    "        # Consider all the items already seen in the training set\n",
    "        all_item_ids = np.arange(1, max_item_id + 1)\n",
    "        items_to_rank = np.setdiff1d(\n",
    "            all_item_ids, pos_item_train['item_id'].values)\n",
    "        \n",
    "        # Ground truth: return 1 for each item positively present in\n",
    "        # the test set and 0 otherwise.\n",
    "        expected = np.in1d(\n",
    "            items_to_rank, pos_item_test['item_id'].values)\n",
    "        \n",
    "        if np.sum(expected) >= 1:\n",
    "            # At least one positive test value to rank\n",
    "            repeated_user_id = np.empty_like(items_to_rank)\n",
    "            repeated_user_id.fill(user_id)\n",
    "\n",
    "            predicted = model.predict(\n",
    "                [repeated_user_id, items_to_rank], batch_size=4096, verbose = 0)\n",
    "        \n",
    "            user_auc_scores.append(roc_auc_score(expected, predicted))\n",
    "\n",
    "    return sum(user_auc_scores) / len(user_auc_scores)"
   ]
  },
  {
   "cell_type": "markdown",
   "id": "58ce0093",
   "metadata": {},
   "source": [
    "### Creating a generalized class for Multi-Layer Perceptron"
   ]
  },
  {
   "cell_type": "code",
   "execution_count": 15,
   "id": "8c86b444",
   "metadata": {},
   "outputs": [],
   "source": [
    "class MultiLayerPerceptron(layers.Layer):\n",
    "    def __init__(self, n_hidden=1, hidden_size=64, dropout=0., l2_reg=None):\n",
    "        super().__init__()\n",
    "        self.layers = [Dropout(dropout)]\n",
    "        for i in range(n_hidden):\n",
    "            self.layers.append(Dense(hidden_size, activation=\"relu\", kernel_regularizer=l2_reg))\n",
    "            self.layers.append(Dropout(dropout))\n",
    "        self.layers.append(Dense(1, activation=\"relu\", kernel_regularizer=l2_reg))\n",
    "        \n",
    "    def call(self, x, training=False):\n",
    "        for layer in self.layers:\n",
    "            if isinstance(layer, Dropout):\n",
    "                x = layer(x, training=training)\n",
    "            else:\n",
    "                x = layer(x)\n",
    "        return x"
   ]
  },
  {
   "cell_type": "markdown",
   "id": "4b161b0d",
   "metadata": {},
   "source": [
    "### Creating a deep neural network architecture for Deep Triplet Model"
   ]
  },
  {
   "cell_type": "code",
   "execution_count": 16,
   "id": "54930079",
   "metadata": {},
   "outputs": [],
   "source": [
    "class DeepTripletModel(Model):\n",
    "    def __init__(self, n_users, n_items, user_dim=32, item_dim=64, margin=1.,  n_hidden=1, \n",
    "                hidden_size=64, dropout=0, l2_reg=None):\n",
    "        super().__init__()\n",
    "        l2_reg = None if l2_reg == 0 else l2(l2_reg)\n",
    "        self.user_layer = Embedding(n_users, user_dim,\n",
    "                                    input_length=1,\n",
    "                                    input_shape=(1,),  \n",
    "                                    name='user_embedding',\n",
    "                                    embeddings_regularizer=l2_reg)\n",
    "        self.item_layer = Embedding(n_items,\n",
    "                                    item_dim,\n",
    "                                    input_length=1,\n",
    "                                    name=\"item_embedding\",\n",
    "                                    embeddings_regularizer=l2_reg)\n",
    "        self.flatten = Flatten()\n",
    "        self.concat = Concatenate()\n",
    "        self.mlp = MultiLayerPerceptron(n_hidden, hidden_size, dropout, l2_reg)\n",
    "        self.margin_loss = MarginLoss(margin)\n",
    "        \n",
    "\n",
    "    def call(self, inputs, training=False):\n",
    "        user_input = inputs[0]\n",
    "        pos_item_input = inputs[1]\n",
    "        neg_item_input = inputs[2]\n",
    "        \n",
    "        user_embedding = self.user_layer(user_input)\n",
    "        user_embedding = self.flatten(user_embedding)\n",
    "        \n",
    "        pos_item_embedding = self.item_layer(pos_item_input)\n",
    "        pos_item_embedding = self.flatten(pos_item_embedding)\n",
    "        \n",
    "        neg_item_embedding = self.item_layer(neg_item_input)\n",
    "        neg_item_embedding = self.flatten(neg_item_embedding)\n",
    "        \n",
    "        # Similarity computation between embeddings\n",
    "        pos_embeddings_pair = self.concat([user_embedding, pos_item_embedding])\n",
    "        neg_embeddings_pair = self.concat([user_embedding, neg_item_embedding])\n",
    "        \n",
    "        pos_similarity = self.mlp(pos_embeddings_pair)\n",
    "        neg_similarity = self.mlp(neg_embeddings_pair)\n",
    "        \n",
    "        return self.margin_loss([pos_similarity, neg_similarity])"
   ]
  },
  {
   "cell_type": "markdown",
   "id": "7eb61ebb",
   "metadata": {},
   "source": [
    "### Creating a deep neural network architecture for Deep Match Model"
   ]
  },
  {
   "cell_type": "code",
   "execution_count": 17,
   "id": "85ec5875",
   "metadata": {},
   "outputs": [],
   "source": [
    "class DeepMatchModel(Model):\n",
    "    def __init__(self, user_layer, item_layer, mlp):\n",
    "        super().__init__(name=\"MatchModel\")\n",
    "        self.user_layer = user_layer\n",
    "        self.item_layer = item_layer\n",
    "        self.mlp = mlp\n",
    "        self.flatten = Flatten()\n",
    "        self.concat = Concatenate()\n",
    "        \n",
    "        \n",
    "    def call(self, inputs):\n",
    "        user_input = inputs[0]\n",
    "        pos_item_input = inputs[1]\n",
    "        \n",
    "        user_embedding = self.flatten(self.user_layer(user_input))\n",
    "        pos_item_embedding = self.flatten(self.item_layer(pos_item_input))\n",
    "        \n",
    "        pos_embeddings_pair = self.concat([user_embedding, pos_item_embedding])\n",
    "        pos_similarity = self.mlp(pos_embeddings_pair)\n",
    "        \n",
    "        return pos_similarity"
   ]
  },
  {
   "cell_type": "markdown",
   "id": "9ff21c58",
   "metadata": {},
   "source": [
    "### Compiling the triplet and match models"
   ]
  },
  {
   "cell_type": "code",
   "execution_count": 18,
   "id": "f3d96bc7",
   "metadata": {},
   "outputs": [],
   "source": [
    "hyper_parameters = dict(\n",
    "    user_dim=32,\n",
    "    item_dim=64,\n",
    "    n_hidden=1,\n",
    "    hidden_size=128,\n",
    "    dropout=0.1,\n",
    "    l2_reg=0)\n",
    "\n",
    "deep_triplet_model = DeepTripletModel(n_users, n_items,\n",
    "                                      **hyper_parameters)\n",
    "deep_match_model = DeepMatchModel(deep_triplet_model.user_layer,\n",
    "                                  deep_triplet_model.item_layer,\n",
    "                                  deep_triplet_model.mlp)\n",
    "deep_triplet_model.compile(loss=identity_loss, optimizer='adam')\n",
    "fake_y = np.ones_like(pos_data_train['user_id'])"
   ]
  },
  {
   "cell_type": "markdown",
   "id": "8a02c925",
   "metadata": {},
   "source": [
    "### Calculating the ROC_AUC of the deep model before training"
   ]
  },
  {
   "cell_type": "code",
   "execution_count": 19,
   "id": "be9d31e0",
   "metadata": {},
   "outputs": [
    {
     "name": "stdout",
     "output_type": "stream",
     "text": [
      "Test_AUC Before Trainig: 0.49630985464205535\n"
     ]
    }
   ],
   "source": [
    "test_AUC = average_roc_auc(deep_match_model, pos_data_train, pos_data_test)\n",
    "print('Test_AUC Before Trainig: {}'.format(test_AUC))"
   ]
  },
  {
   "cell_type": "markdown",
   "id": "591e5511",
   "metadata": {},
   "source": [
    "### Training the Deep Triplet Model with training dataset"
   ]
  },
  {
   "cell_type": "code",
   "execution_count": 20,
   "id": "efa94c4c",
   "metadata": {},
   "outputs": [
    {
     "name": "stdout",
     "output_type": "stream",
     "text": [
      "Tensor(\"deep_triplet_model/margin_loss/sub:0\", shape=(None, 1), dtype=float32)\n",
      "Tensor(\"deep_triplet_model/margin_loss/sub:0\", shape=(None, 1), dtype=float32)\n",
      "780/780 [==============================] - 4s 3ms/step - loss: 0.4616\n",
      "780/780 [==============================] - 2s 3ms/step - loss: 0.3797\n",
      "780/780 [==============================] - 3s 3ms/step - loss: 0.3693\n",
      "780/780 [==============================] - 3s 3ms/step - loss: 0.3659\n",
      "780/780 [==============================] - 2s 3ms/step - loss: 0.3600\n",
      "780/780 [==============================] - 3s 4ms/step - loss: 0.3413\n",
      "780/780 [==============================] - 3s 4ms/step - loss: 0.3272\n",
      "780/780 [==============================] - 3s 3ms/step - loss: 0.3176\n",
      "780/780 [==============================] - 2s 3ms/step - loss: 0.3105\n",
      "780/780 [==============================] - 2s 3ms/step - loss: 0.2945\n",
      "780/780 [==============================] - 3s 3ms/step - loss: 0.2921\n",
      "780/780 [==============================] - 3s 4ms/step - loss: 0.2820\n",
      "780/780 [==============================] - 3s 3ms/step - loss: 0.2783\n",
      "780/780 [==============================] - 3s 3ms/step - loss: 0.2735\n",
      "780/780 [==============================] - 3s 4ms/step - loss: 0.2671\n",
      "780/780 [==============================] - 2s 3ms/step - loss: 0.2671\n",
      "780/780 [==============================] - 3s 3ms/step - loss: 0.2665\n",
      "780/780 [==============================] - 2s 3ms/step - loss: 0.2621\n",
      "780/780 [==============================] - 3s 3ms/step - loss: 0.2593\n",
      "780/780 [==============================] - 3s 3ms/step - loss: 0.2576\n"
     ]
    }
   ],
   "source": [
    "#Model training: \n",
    "n_epochs = 20\n",
    "for i in range(n_epochs):\n",
    "    # Sample new negatives to build different triplets at each epoch\n",
    "    triplet_inputs = sample_triplets(pos_data_train, max_item_id,\n",
    "                                     random_seed=i)\n",
    "    # Fit the model incrementally by doing a single pass over the\n",
    "    # sampled triplets.\n",
    "    deep_triplet_model.fit(triplet_inputs, fake_y, shuffle=True,\n",
    "                           batch_size=64, epochs=1)\n",
    "    deep_match_model = DeepMatchModel(deep_triplet_model.user_layer,\n",
    "                                  deep_triplet_model.item_layer,\n",
    "                                  deep_triplet_model.mlp)"
   ]
  },
  {
   "cell_type": "markdown",
   "id": "beaa7fbc",
   "metadata": {},
   "source": [
    "### Calculating the ROC_AUC of the deep model after training"
   ]
  },
  {
   "cell_type": "code",
   "execution_count": 21,
   "id": "c529d1d2",
   "metadata": {},
   "outputs": [
    {
     "name": "stdout",
     "output_type": "stream",
     "text": [
      "Epoch 20/20: test ROC AUC: 0.9188\n"
     ]
    }
   ],
   "source": [
    "# Monitor the convergence of the model\n",
    "test_auc = average_roc_auc(deep_match_model, pos_data_train, pos_data_test)\n",
    "print(\"Epoch %d/%d: test ROC AUC: %0.4f\"\n",
    "      % (i + 1, n_epochs, test_auc))"
   ]
  },
  {
   "cell_type": "markdown",
   "id": "b812c793",
   "metadata": {},
   "source": [
    "## End of Document"
   ]
  }
 ],
 "metadata": {
  "kernelspec": {
   "display_name": "Python 3 (ipykernel)",
   "language": "python",
   "name": "python3"
  },
  "language_info": {
   "codemirror_mode": {
    "name": "ipython",
    "version": 3
   },
   "file_extension": ".py",
   "mimetype": "text/x-python",
   "name": "python",
   "nbconvert_exporter": "python",
   "pygments_lexer": "ipython3",
   "version": "3.9.15"
  }
 },
 "nbformat": 4,
 "nbformat_minor": 5
}
